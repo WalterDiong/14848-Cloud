{
 "cells": [
  {
   "cell_type": "code",
   "execution_count": 41,
   "metadata": {},
   "outputs": [],
   "source": [
    "from pyspark import SparkContext, SparkConf"
   ]
  },
  {
   "cell_type": "code",
   "execution_count": 42,
   "metadata": {},
   "outputs": [],
   "source": [
    "conf = SparkConf()\n",
    "sc = SparkContext.getOrCreate(conf=conf)"
   ]
  },
  {
   "cell_type": "code",
   "execution_count": 45,
   "metadata": {},
   "outputs": [],
   "source": [
    "# Function to remove invalid/bad characters from words in file\n",
    "def bad_char_remover(word):\n",
    "    bad_chars = ['~', '!', '#', '$', '%', '^', '&', '*', '(', ')', '-', '+', '[', ']', ';', ':', '\"', ',', '.', '?', '<', '>', '\\\\', '/', '_', '=']\n",
    "    for char in word:\n",
    "        if char in bad_chars:\n",
    "            word = word.replace(char, \"\")\n",
    "        if char == '\\r' or char == \"\\n\":\n",
    "            word = word.replace(char,\" \")\n",
    "    return word"
   ]
  },
  {
   "cell_type": "code",
   "execution_count": 47,
   "metadata": {},
   "outputs": [],
   "source": [
    "# Read in each file \n",
    "path = \"Data/\"\n",
    "rdd = sc.wholeTextFiles(path)\n",
    "\n",
    "# Convert words into lower case to avoid duplicates and clean out invalid/bad characters \n",
    "cleaned_rdd = rdd.flatMap(lambda file_content:[(file_content[0], word, 1) for word in bad_char_remover(file_content[1]).lower().split()])"
   ]
  },
  {
   "cell_type": "code",
   "execution_count": 53,
   "metadata": {},
   "outputs": [],
   "source": [
    "# Filter out stop list words from rdd\n",
    "stop_list = [\"they\", \"she\", \"he\", \"it\", \"the\", \"as\", \"is\", \"and\"]\n",
    "filterd_rdd = cleaned_rdd.filter(lambda cleaned_word : cleaned_word[1] not in stop_list)"
   ]
  },
  {
   "cell_type": "code",
   "execution_count": 59,
   "metadata": {},
   "outputs": [
    {
     "name": "stdout",
     "output_type": "stream",
     "text": [
      "[(('othello', 'file:/notebooks/Data/Data/othello'), 1)]\n",
      "[(('othello', 'file:/notebooks/Data/Data/othello'), 339)]\n"
     ]
    }
   ],
   "source": [
    "# Map and reduce to get cumulative occurences of words per file\n",
    "output = filterd_rdd.map(lambda string: ((string[1], string[0]), string[2]))\n",
    "# print(output.take(1))\n",
    "output = output.reduceByKey(lambda a,b: a+b)\n",
    "# print(output.take(1))"
   ]
  },
  {
   "cell_type": "code",
   "execution_count": 60,
   "metadata": {},
   "outputs": [
    {
     "name": "stdout",
     "output_type": "stream",
     "text": [
      "[('othello', [('file:/notebooks/Data/Data/othello', 339)])]\n",
      "[('othello', [('file:/notebooks/Data/Data/othello', 339), ('file:/notebooks/Data/Data/Miserables.txt', 1)])]\n"
     ]
    }
   ],
   "source": [
    "# Map and reduce to get cumulative occurences in file per word (Inverted index)\n",
    "output = output.map(lambda string: (string[0][0], [(string[0][1], string[1])]))\n",
    "# print(output.take(1))\n",
    "output = output.reduceByKey(lambda a,b: a+b)\n",
    "# print(output.take(1))"
   ]
  },
  {
   "cell_type": "code",
   "execution_count": 62,
   "metadata": {},
   "outputs": [],
   "source": [
    "output.coalesce(1).saveAsTextFile(\"results/\")"
   ]
  }
 ],
 "metadata": {
  "kernelspec": {
   "display_name": "Python 3",
   "language": "python",
   "name": "python3"
  },
  "language_info": {
   "codemirror_mode": {
    "name": "ipython",
    "version": 3
   },
   "file_extension": ".py",
   "mimetype": "text/x-python",
   "name": "python",
   "nbconvert_exporter": "python",
   "pygments_lexer": "ipython3",
   "version": "3.7.9"
  }
 },
 "nbformat": 4,
 "nbformat_minor": 4
}
